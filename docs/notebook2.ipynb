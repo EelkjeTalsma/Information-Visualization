{
 "cells": [
  {
   "cell_type": "code",
   "execution_count": null,
   "id": "d6e02608",
   "metadata": {
    "vscode": {
     "languageId": "plaintext"
    }
   },
   "outputs": [],
   "source": [
    "import pandas as pd\n",
    "import plotly.express as px\n",
    "import seaborn as sns\n",
    "\n",
    "df = pd.read_csv(\"iris_data.csv\")\n",
    "df"
   ]
  }
 ],
 "metadata": {
  "language_info": {
   "name": "python"
  }
 },
 "nbformat": 4,
 "nbformat_minor": 5
}
